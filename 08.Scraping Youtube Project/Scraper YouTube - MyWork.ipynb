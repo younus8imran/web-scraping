{
 "cells": [
  {
   "cell_type": "markdown",
   "metadata": {},
   "source": [
    "# Scraping YouTube"
   ]
  },
  {
   "cell_type": "markdown",
   "metadata": {},
   "source": [
    "## Initial Setup"
   ]
  },
  {
   "cell_type": "code",
   "execution_count": 1,
   "metadata": {},
   "outputs": [],
   "source": [
    "from bs4 import BeautifulSoup\n",
    "import requests"
   ]
  },
  {
   "cell_type": "markdown",
   "metadata": {},
   "source": [
    "## Connect to webpage"
   ]
  },
  {
   "cell_type": "code",
   "execution_count": 26,
   "metadata": {},
   "outputs": [
    {
     "data": {
      "text/plain": [
       "200"
      ]
     },
     "execution_count": 26,
     "metadata": {},
     "output_type": "execute_result"
    }
   ],
   "source": [
    "base_url = \"https://www.youtube.com/\"\n",
    "r = requests.get(base_url)\n",
    "r.status_code"
   ]
  },
  {
   "cell_type": "code",
   "execution_count": 4,
   "metadata": {},
   "outputs": [],
   "source": [
    "# get HTML\n",
    "html = r.content"
   ]
  },
  {
   "cell_type": "code",
   "execution_count": 5,
   "metadata": {},
   "outputs": [],
   "source": [
    "# convert HTML to BeautifulSoup object\n",
    "soup = BeautifulSoup(html)"
   ]
  },
  {
   "cell_type": "code",
   "execution_count": 6,
   "metadata": {},
   "outputs": [],
   "source": [
    "with open('youtube.html', 'wb') as file:\n",
    "    file.write(soup.prettify('utf-8'))"
   ]
  },
  {
   "cell_type": "markdown",
   "metadata": {},
   "source": [
    "## 1) Scrape the text from each span tag\n",
    "## 2) How many images are on YouTube'e homepage?\n",
    "## 3) Can you find the URL of the link with title = \"Movies\"?  Music? Sports?\n",
    "## 4) Now, try connecting to and scraping https://www.youtube.com/results?search_query=stairway+to+heaven\n",
    "## a) Can you get the names of the first few videos in the search results?\n",
    "## b) Next, connect to one of the search result videos - https://www.youtube.com/watch?v=qHFxncb1gRY\n",
    "## c) Can you find the \"related\" videos?  What are their titles?  Durations?  URLs? Number of views?\n",
    "## d) Try finding (and scraping) the Twitter description of the video."
   ]
  },
  {
   "cell_type": "markdown",
   "metadata": {},
   "source": [
    "-----------\n"
   ]
  },
  {
   "cell_type": "markdown",
   "metadata": {},
   "source": [
    "## 1) Scrape span tag"
   ]
  },
  {
   "cell_type": "code",
   "execution_count": 1,
   "metadata": {},
   "outputs": [
    {
     "output_type": "error",
     "ename": "NameError",
     "evalue": "name 'soup' is not defined",
     "traceback": [
      "\u001b[0;31m---------------------------------------------------------------------------\u001b[0m",
      "\u001b[0;31mNameError\u001b[0m                                 Traceback (most recent call last)",
      "\u001b[0;32m<ipython-input-1-f888ddecf547>\u001b[0m in \u001b[0;36m<module>\u001b[0;34m\u001b[0m\n\u001b[0;32m----> 1\u001b[0;31m \u001b[0mspan_div\u001b[0m \u001b[0;34m=\u001b[0m \u001b[0msoup\u001b[0m\u001b[0;34m.\u001b[0m\u001b[0mfind_all\u001b[0m\u001b[0;34m(\u001b[0m\u001b[0;34m'span'\u001b[0m\u001b[0;34m)\u001b[0m\u001b[0;34m\u001b[0m\u001b[0;34m\u001b[0m\u001b[0m\n\u001b[0m\u001b[1;32m      2\u001b[0m \u001b[0mspan_div\u001b[0m\u001b[0;34m;\u001b[0m\u001b[0;34m\u001b[0m\u001b[0;34m\u001b[0m\u001b[0m\n",
      "\u001b[0;31mNameError\u001b[0m: name 'soup' is not defined"
     ]
    }
   ],
   "source": [
    "span_div = soup.find_all('span')\n",
    "span_div;"
   ]
  },
  {
   "cell_type": "code",
   "execution_count": 13,
   "metadata": {},
   "outputs": [
    {
     "data": {
      "text/plain": [
       "['Sign in',\n",
       " 'Search',\n",
       " 'Trending',\n",
       " 'Home',\n",
       " 'Home',\n",
       " 'Home',\n",
       " 'Trending',\n",
       " 'Trending',\n",
       " 'Trending',\n",
       " 'History',\n",
       " 'History',\n",
       " 'History',\n",
       " 'Music',\n",
       " 'Music',\n",
       " 'Music',\n",
       " 'Sports',\n",
       " 'Sports',\n",
       " 'Sports',\n",
       " 'Gaming',\n",
       " 'Gaming',\n",
       " 'Gaming',\n",
       " 'News',\n",
       " 'News',\n",
       " 'News',\n",
       " 'Live',\n",
       " 'Live',\n",
       " 'Live',\n",
       " 'Fashion',\n",
       " 'Fashion',\n",
       " 'Fashion',\n",
       " 'Learning',\n",
       " 'Learning',\n",
       " 'Learning',\n",
       " '360Â° Video',\n",
       " '360Â° Video',\n",
       " '360Â° Video',\n",
       " 'Browse channels',\n",
       " 'Browse channels',\n",
       " 'Browse channels',\n",
       " 'Sign in']"
      ]
     },
     "execution_count": 13,
     "metadata": {},
     "output_type": "execute_result"
    }
   ],
   "source": [
    "span_list = [div.text.strip() for div in span_div  if div.text.strip()!='' ]\n",
    "span_list"
   ]
  },
  {
   "cell_type": "code",
   "execution_count": 15,
   "metadata": {},
   "outputs": [
    {
     "data": {
      "text/plain": [
       "{'360Â° Video',\n",
       " 'Browse channels',\n",
       " 'Fashion',\n",
       " 'Gaming',\n",
       " 'History',\n",
       " 'Home',\n",
       " 'Learning',\n",
       " 'Live',\n",
       " 'Music',\n",
       " 'News',\n",
       " 'Search',\n",
       " 'Sign in',\n",
       " 'Sports',\n",
       " 'Trending'}"
      ]
     },
     "execution_count": 15,
     "metadata": {},
     "output_type": "execute_result"
    }
   ],
   "source": [
    "unique_span_list = set(span_list)\n",
    "unique_span_list"
   ]
  },
  {
   "cell_type": "markdown",
   "metadata": {},
   "source": [
    "------------"
   ]
  },
  {
   "cell_type": "markdown",
   "metadata": {},
   "source": [
    "## 2) How many images in youtube home page?"
   ]
  },
  {
   "cell_type": "code",
   "execution_count": 23,
   "metadata": {},
   "outputs": [
    {
     "data": {
      "text/plain": [
       "[<img alt=\"\" aria-hidden=\"true\" data-thumb=\"//yt3.ggpht.com/zYQhquP150XaBl5f-C5PPNa9qd4ux-b4zoJnUtlESSXVI4g0CCfAAWGEsYLqyP8mjDbHcHjm0g=s20-c-k-c0xffffffff-no-nd-rj\" data-ytimg=\"1\" height=\"20\" onload=\";window.__ytRIL &amp;&amp; __ytRIL(this)\" src=\"/yts/img/pixel-vfl3z5WfW.gif\" width=\"20\"/>,\n",
       " <img alt=\"\" aria-hidden=\"true\" data-thumb=\"//yt3.ggpht.com/0suiXm6iuhFWYcAy3Yp_PCvskNY2Ri_MOqWVSL27T5iHXJCebB1_GOpYIBeObW6ypmKY4-wAwas=s20-c-k-c0xffffffff-no-nd-rj\" data-ytimg=\"1\" height=\"20\" onload=\";window.__ytRIL &amp;&amp; __ytRIL(this)\" src=\"/yts/img/pixel-vfl3z5WfW.gif\" width=\"20\"/>,\n",
       " <img alt=\"\" aria-hidden=\"true\" data-thumb=\"//yt3.ggpht.com/YtiQPvkW7Z0eIPkwpfgu_JC3qXNrha2nHp-sIJXjYXFzyFPVhk6TlHZ2mQqPkZzWvB_H4wfI=s20-c-k-c0xffffffff-no-nd-rj\" data-ytimg=\"1\" height=\"20\" onload=\";window.__ytRIL &amp;&amp; __ytRIL(this)\" src=\"/yts/img/pixel-vfl3z5WfW.gif\" width=\"20\"/>,\n",
       " <img alt=\"\" aria-hidden=\"true\" data-thumb=\"//yt3.ggpht.com/u1XZByRtsdqkeDaKlGWce_2q0naKuLjkdB9dk7Rcywi6NsfH6_Tg0TGgyyeJPsM--1m5ellvic0=s20-c-k-c0xffffffff-no-nd-rj\" data-ytimg=\"1\" height=\"20\" onload=\";window.__ytRIL &amp;&amp; __ytRIL(this)\" src=\"/yts/img/pixel-vfl3z5WfW.gif\" width=\"20\"/>,\n",
       " <img alt=\"\" aria-hidden=\"true\" data-thumb=\"//yt3.ggpht.com/5HkUAx2SOolanKFGX7Au5O84m4XbzvjpxXowcw2EYjbZmUObb_MzjZiiSDfy3z9ImpC0PCuZIB_dlPnEqQ=s20-c-k-c0xffffffff-no-nd-rj\" data-ytimg=\"1\" height=\"20\" onload=\";window.__ytRIL &amp;&amp; __ytRIL(this)\" src=\"/yts/img/pixel-vfl3z5WfW.gif\" width=\"20\"/>,\n",
       " <img alt=\"\" aria-hidden=\"true\" data-thumb=\"//yt3.ggpht.com/E7YhgNCr2Dk1IoVfxrYYULTfRb6Kk2hvFUGVsc8tsxHLTqTMBqQ9TNw6jUzEHHak1DQ9OdjD1g=s20-c-k-c0xffffffff-no-nd-rj\" data-ytimg=\"1\" height=\"20\" onload=\";window.__ytRIL &amp;&amp; __ytRIL(this)\" src=\"/yts/img/pixel-vfl3z5WfW.gif\" width=\"20\"/>,\n",
       " <img alt=\"\" aria-hidden=\"true\" data-thumb=\"//yt3.ggpht.com/xA5kTw1MgVuMgKeLI_yq8yxwo8at2Y6uiSoB32I0IfEqGsjaB_dOhkFalC4REwBhWD3KqndmWw=s20-c-k-c0xffffffff-no-nd-rj\" data-ytimg=\"1\" height=\"20\" onload=\";window.__ytRIL &amp;&amp; __ytRIL(this)\" src=\"/yts/img/pixel-vfl3z5WfW.gif\" width=\"20\"/>,\n",
       " <img alt=\"\" aria-hidden=\"true\" data-thumb=\"//yt3.ggpht.com/uy4yrU5uRSbXvqvfrOrxYXp1VnE0z-ma4_eGEezicbEASJDP1OgL6crSsVRE9rFJiTsS93VqLQ=s20-c-k-c0xffffffff-no-nd-rj\" data-ytimg=\"1\" height=\"20\" onload=\";window.__ytRIL &amp;&amp; __ytRIL(this)\" src=\"/yts/img/pixel-vfl3z5WfW.gif\" width=\"20\"/>]"
      ]
     },
     "execution_count": 23,
     "metadata": {},
     "output_type": "execute_result"
    }
   ],
   "source": [
    "images = soup.find_all('img')\n",
    "images"
   ]
  },
  {
   "cell_type": "code",
   "execution_count": 24,
   "metadata": {},
   "outputs": [
    {
     "data": {
      "text/plain": [
       "8"
      ]
     },
     "execution_count": 24,
     "metadata": {},
     "output_type": "execute_result"
    }
   ],
   "source": [
    "len(images)"
   ]
  },
  {
   "cell_type": "code",
   "execution_count": 30,
   "metadata": {},
   "outputs": [
    {
     "data": {
      "text/plain": [
       "['/yts/img/pixel-vfl3z5WfW.gif',\n",
       " '/yts/img/pixel-vfl3z5WfW.gif',\n",
       " '/yts/img/pixel-vfl3z5WfW.gif',\n",
       " '/yts/img/pixel-vfl3z5WfW.gif',\n",
       " '/yts/img/pixel-vfl3z5WfW.gif',\n",
       " '/yts/img/pixel-vfl3z5WfW.gif',\n",
       " '/yts/img/pixel-vfl3z5WfW.gif',\n",
       " '/yts/img/pixel-vfl3z5WfW.gif']"
      ]
     },
     "execution_count": 30,
     "metadata": {},
     "output_type": "execute_result"
    }
   ],
   "source": [
    "img_url_list = [img.get('src') for img in images]\n",
    "img_url_list"
   ]
  },
  {
   "cell_type": "code",
   "execution_count": 31,
   "metadata": {},
   "outputs": [
    {
     "data": {
      "text/plain": [
       "['https://www.youtube.com/yts/img/pixel-vfl3z5WfW.gif',\n",
       " 'https://www.youtube.com/yts/img/pixel-vfl3z5WfW.gif',\n",
       " 'https://www.youtube.com/yts/img/pixel-vfl3z5WfW.gif',\n",
       " 'https://www.youtube.com/yts/img/pixel-vfl3z5WfW.gif',\n",
       " 'https://www.youtube.com/yts/img/pixel-vfl3z5WfW.gif',\n",
       " 'https://www.youtube.com/yts/img/pixel-vfl3z5WfW.gif',\n",
       " 'https://www.youtube.com/yts/img/pixel-vfl3z5WfW.gif',\n",
       " 'https://www.youtube.com/yts/img/pixel-vfl3z5WfW.gif']"
      ]
     },
     "execution_count": 31,
     "metadata": {},
     "output_type": "execute_result"
    }
   ],
   "source": [
    "from urllib.parse import urljoin\n",
    "\n",
    "img_with_full_path = [urljoin(base_url,img_url) for img_url in img_url_list]\n",
    "img_with_full_path"
   ]
  },
  {
   "cell_type": "markdown",
   "metadata": {},
   "source": [
    "-----------"
   ]
  },
  {
   "cell_type": "markdown",
   "metadata": {},
   "source": [
    "## 3) URL of the link with title = \"Movies\"? Music? Sports?"
   ]
  },
  {
   "cell_type": "code",
   "execution_count": 64,
   "metadata": {},
   "outputs": [
    {
     "data": {
      "text/plain": [
       "14"
      ]
     },
     "execution_count": 64,
     "metadata": {},
     "output_type": "execute_result"
    }
   ],
   "source": [
    "links = []\n",
    "\n",
    "for item in unique_span_list:\n",
    "    link = soup.find_all('a',{'title':item})\n",
    "    links.append(link)\n",
    "    \n",
    "len(links)"
   ]
  },
  {
   "cell_type": "code",
   "execution_count": 85,
   "metadata": {},
   "outputs": [
    {
     "name": "stdout",
     "output_type": "stream",
     "text": [
      "['https://www.youtube.com/gaming', 'https://www.youtube.com/channel/UCEgdi0XIXXZ-qJOFPf4JSKw', 'https://www.youtube.com/channel/UCYfdidRxbB8Qhf0Nx7ioOYw', 'https://www.youtube.com/channel/UC4R8DWoMoI7CAwX8_LjQHig', 'https://www.youtube.com/feed/history', 'https://www.youtube.com/learning', 'https://www.youtube.com/channel/UCzuqhhs6NWbgTzMuM09WKDQ', 'https://www.youtube.com/channel/UC-9-kyTW8ZkZNDHQJ6FgpwQ', 'https://www.youtube.com/channel/UCrpQ4p1Ql_hG8rKXIKM1MOQ', 'https://www.youtube.com/feed/guide_builder', 'https://www.youtube.com/', 'https://www.youtube.com/feed/trending']\n"
     ]
    }
   ],
   "source": [
    "from urllib.parse import urljoin\n",
    "\n",
    "url_list = []\n",
    "\n",
    "for link in links:\n",
    "    if len(link) != 0:\n",
    "        url = link[0].get('href')\n",
    "        url_list.append(urljoin(base_url, url))\n",
    "        \n",
    "print(url_list)"
   ]
  },
  {
   "cell_type": "markdown",
   "metadata": {},
   "source": [
    "----------\n"
   ]
  },
  {
   "cell_type": "markdown",
   "metadata": {},
   "source": [
    "## 4) scraping https://www.youtube.com/results?search_query=stairway+to+heaven"
   ]
  },
  {
   "cell_type": "code",
   "execution_count": 125,
   "metadata": {},
   "outputs": [],
   "source": [
    "r = requests.get('https://www.youtube.com/results?search_query=stairway+to+heaven')"
   ]
  },
  {
   "cell_type": "code",
   "execution_count": 126,
   "metadata": {},
   "outputs": [
    {
     "data": {
      "text/plain": [
       "200"
      ]
     },
     "execution_count": 126,
     "metadata": {},
     "output_type": "execute_result"
    }
   ],
   "source": [
    "r.status_code"
   ]
  },
  {
   "cell_type": "code",
   "execution_count": 127,
   "metadata": {},
   "outputs": [],
   "source": [
    "html = r.content"
   ]
  },
  {
   "cell_type": "code",
   "execution_count": 128,
   "metadata": {},
   "outputs": [],
   "source": [
    "soup = BeautifulSoup(html,'lxml')"
   ]
  },
  {
   "cell_type": "code",
   "execution_count": 129,
   "metadata": {},
   "outputs": [],
   "source": [
    "with open('stairway_to_heaven.html','wb') as file:\n",
    "    file.write(soup.prettify('utf-8'))"
   ]
  },
  {
   "cell_type": "markdown",
   "metadata": {},
   "source": [
    "## 5) get the names of the first few videos in the search results"
   ]
  },
  {
   "cell_type": "code",
   "execution_count": 130,
   "metadata": {},
   "outputs": [
    {
     "data": {
      "text/plain": [
       "20"
      ]
     },
     "execution_count": 130,
     "metadata": {},
     "output_type": "execute_result"
    }
   ],
   "source": [
    "videos_div = soup.find_all('div', {'class':'yt-lockup-content'})\n",
    "len(videos_div)"
   ]
  },
  {
   "cell_type": "code",
   "execution_count": 131,
   "metadata": {},
   "outputs": [
    {
     "name": "stdout",
     "output_type": "stream",
     "text": [
      "Led Zeppelin -  Stairway to Heaven Live\n",
      "Led Zeppelin - Stairway To Heaven\n",
      "Led Zeppelin - Stairway To Heaven (Official Audio)\n",
      "Stairway to Heaven Led Zeppelin Lyrics\n",
      "Heart - Stairway to Heaven (Live at Kennedy Center Honors) [FULL VERSION]\n",
      "Stairway to Heaven - OST\n",
      "레전드 드라마 [천국의 계단] '1~6회 정주행 가즈아!' / 'Stairway to heaven' Review\n",
      "Stairway to heaven\n",
      "Led Zeppelin Stairway To Heaven Live Earls Court 1975 HD\n",
      "Led Zeppelin -  Stairway to Heaven\n",
      "STAIRWAY TO HEAVEN -  Flashmob - LEGENDADO PORTUGUÊS - INGLÊS\n",
      "Led Zeppelin Live Aid 1985 3 Stairway to Heaven Stereo\n",
      "Stairway to Heaven (Led Zeppelin Tribute): Heart's Ann and Nancy Wilson - 2012 Kennedy Center Honors\n",
      "Led Zeppelin \"Stairway to Heaven\" performed by The Classic Rock Show\n",
      "Ost. Temptation & Stairway To Heaven\n",
      "Mix - Led Zeppelin -  Stairway to Heaven Live\n",
      "stairway to heaven love song\n",
      "Stairway to Heaven- Korean Drama, Episode 1 (Ave Maria)\n",
      "Stairway to Heaven with Amazing Gimnazija Kranj Symphony Orchestra\n",
      "Led Zeppelin - Stairway To Heaven (HQ)\n"
     ]
    }
   ],
   "source": [
    "for div in videos_div:\n",
    "    print(div.find('a').text)\n"
   ]
  },
  {
   "cell_type": "markdown",
   "metadata": {},
   "source": [
    "----------"
   ]
  },
  {
   "cell_type": "markdown",
   "metadata": {},
   "source": [
    "## 6)  search result videos - https://www.youtube.com/watch?v=qHFxncb1gRY"
   ]
  },
  {
   "cell_type": "code",
   "execution_count": 133,
   "metadata": {},
   "outputs": [
    {
     "name": "stdout",
     "output_type": "stream",
     "text": [
      "https://www.youtube.com/watch?v=xbhCPt6PZIU\n",
      "https://www.youtube.com/watch?v=Nnu1E5Kslig\n",
      "https://www.youtube.com/watch?v=QkF3oxziUI4\n",
      "https://www.youtube.com/watch?v=qHFxncb1gRY\n",
      "https://www.youtube.com/watch?v=LFxOaDeJmXk\n",
      "https://www.youtube.com/watch?v=3LtnRRxpUxc\n",
      "https://www.youtube.com/watch?v=aasYVxGlXds\n",
      "https://www.youtube.com/watch?v=5rOGUOKPQXc&list=PLVn8mr8EMW7ebpxW1R6BeytfYMLCiNOXX\n",
      "https://www.youtube.com/watch?v=CxfniXCwrJA\n",
      "https://www.youtube.com/watch?v=t2qqFCNuys0\n",
      "https://www.youtube.com/watch?v=t9R8uzCXS10\n",
      "https://www.youtube.com/watch?v=CBk-iRihSUg\n",
      "https://www.youtube.com/watch?v=2u-PjvRyr0I\n",
      "https://www.youtube.com/watch?v=o0RlZ0DBJaQ\n",
      "https://www.youtube.com/watch?v=8ahD7WcHhc4\n",
      "https://www.youtube.com/watch?v=xbhCPt6PZIU&list=RDxbhCPt6PZIU&start_radio=1\n",
      "https://www.youtube.com/watch?v=HanQrTkbQ7I\n",
      "https://www.youtube.com/watch?v=75x4HzVKhsQ\n",
      "https://www.youtube.com/watch?v=dR5GN2aPsyY\n",
      "https://www.youtube.com/watch?v=CPSkNFODVRE\n"
     ]
    }
   ],
   "source": [
    "for div in videos_div:\n",
    "    url = div.find('a').get('href')\n",
    "    full_url = urljoin(base_url, url)\n",
    "    print(full_url)"
   ]
  },
  {
   "cell_type": "markdown",
   "metadata": {},
   "source": [
    "-----------"
   ]
  },
  {
   "cell_type": "markdown",
   "metadata": {},
   "source": [
    "## 8) description of the video"
   ]
  },
  {
   "cell_type": "code",
   "execution_count": 138,
   "metadata": {},
   "outputs": [],
   "source": [
    "r = requests.get('https://www.youtube.com/watch?v=qHFxncb1gRY')\n",
    "html = r.content\n",
    "soup = BeautifulSoup(html,'lxml')"
   ]
  },
  {
   "cell_type": "code",
   "execution_count": 139,
   "metadata": {},
   "outputs": [],
   "source": [
    "with open('searched_video.html','wb') as file:\n",
    "    file.write(soup.prettify('utf-8'))"
   ]
  },
  {
   "cell_type": "code",
   "execution_count": 144,
   "metadata": {},
   "outputs": [
    {
     "name": "stdout",
     "output_type": "stream",
     "text": [
      "\"Stairway to Heaven\" is a song by the English rock band Led Zeppelin. It was composed by guitarist Jimmy Page and vocalist Robert Plant for the band's fourth unnamed studio album, (see Led Zeppelin IV (1971)). The song was voted #3 in 2000 by VH1 on their list of the 100 Greatest Rock Songs.[1] It was the most requested song on FM radio stations in the United States in the 1970s, despite never having been released as a single there.[2] In November 2007, through download sales promoting Led Zeppelin's Mothership release, \"Stairway to Heaven\" hit #37 on the UK Singles Chart.[3]\n"
     ]
    }
   ],
   "source": [
    "video_desc = soup.find('p', {'id' : 'eow-description'}).text\n",
    "print(video_desc)"
   ]
  },
  {
   "cell_type": "markdown",
   "metadata": {},
   "source": [
    "--------------"
   ]
  },
  {
   "cell_type": "markdown",
   "metadata": {},
   "source": [
    "### 7) \"related\" videos? What are their titles? Durations? URLs? Number of views?"
   ]
  },
  {
   "cell_type": "code",
   "execution_count": 148,
   "metadata": {},
   "outputs": [
    {
     "data": {
      "text/plain": [
       "20"
      ]
     },
     "execution_count": 148,
     "metadata": {},
     "output_type": "execute_result"
    }
   ],
   "source": [
    "related_video_li = soup.find_all('li',{'class':'video-list-item'})\n",
    "len(related_video_li)"
   ]
  },
  {
   "cell_type": "code",
   "execution_count": 178,
   "metadata": {
    "scrolled": true
   },
   "outputs": [],
   "source": [
    "for video in related_video_li:\n",
    "    #title\n",
    "    related_video_title = video.find('span', {'class' : 'title'}).text.strip()\n",
    "\n",
    "    #durations\n",
    "    span_class = video.find('span', {'class' : 'accessible-description'})\n",
    "    if(span_class is not None):    \n",
    "        related_video_duration = span_class.text.strip()\n",
    "        \n",
    "    #URLs\n",
    "    related_video_url = urljoin(base_url, video.find('a').get('href'))\n",
    "    \n",
    "    #number of views\n",
    "    views = video.find('span',{'class':'stat view-count'})\n",
    "    if views is not None:\n",
    "        related_video_number_of_views = views.text"
   ]
  },
  {
   "cell_type": "code",
   "execution_count": null,
   "metadata": {},
   "outputs": [],
   "source": []
  }
 ],
 "metadata": {
  "kernelspec": {
   "display_name": "Python 3",
   "language": "python",
   "name": "python3"
  },
  "language_info": {
   "codemirror_mode": {
    "name": "ipython",
    "version": 3
   },
   "file_extension": ".py",
   "mimetype": "text/x-python",
   "name": "python",
   "nbconvert_exporter": "python",
   "pygments_lexer": "ipython3",
   "version": "3.8.5"
  }
 },
 "nbformat": 4,
 "nbformat_minor": 2
}